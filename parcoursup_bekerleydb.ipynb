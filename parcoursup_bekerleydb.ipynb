{
 "cells": [
  {
   "cell_type": "code",
   "execution_count": null,
   "metadata": {},
   "outputs": [],
   "source": [
    "import berkeleydb\n",
    "\n",
    "# Créer ou ouvrir une base de données\n",
    "db = berkeleydb.hashopen('ma_base.db', 'c')  # 'c' signifie \"create\" (création de la base de données si elle n'existe pas)\n",
    "\n",
    "# Insérer des paires clé-valeur\n",
    "db[b'key1'] = b'value1'\n",
    "db[b'key2'] = b'value2'\n",
    "db[b'key3'] = b'value3'\n",
    "\n",
    "# Fermer la base de données\n",
    "db.close()\n"
   ]
  },
  {
   "cell_type": "code",
   "execution_count": 2,
   "metadata": {},
   "outputs": [
    {
     "name": "stdout",
     "output_type": "stream",
     "text": [
      "b'value1'\n",
      "b'value2'\n"
     ]
    }
   ],
   "source": [
    "import berkeleydb\n",
    "\n",
    "# Ouvrir la base de données en mode lecture\n",
    "db = berkeleydb.hashopen('ma_base.db', 'r')\n",
    "\n",
    "# Lire des valeurs à partir de clés\n",
    "try:\n",
    "    print(db[b'key1'])  # Affiche 'value1'\n",
    "    print(db[b'key2'])  # Affiche 'value2'\n",
    "except KeyError:\n",
    "    print(\"Clé non trouvée\")\n",
    "\n",
    "# Fermer la base de données\n",
    "db.close()\n"
   ]
  },
  {
   "cell_type": "code",
   "execution_count": 3,
   "metadata": {},
   "outputs": [],
   "source": [
    "import berkeleydb\n",
    "\n",
    "# Ouvrir la base de données en mode lecture-écriture\n",
    "db = berkeleydb.hashopen('ma_base.db', 'w')\n",
    "\n",
    "# Supprimer une clé\n",
    "del db[b'key1']\n",
    "\n",
    "# Fermer la base de données\n",
    "db.close()\n"
   ]
  }
 ],
 "metadata": {
  "kernelspec": {
   "display_name": "venv",
   "language": "python",
   "name": "python3"
  },
  "language_info": {
   "codemirror_mode": {
    "name": "ipython",
    "version": 3
   },
   "file_extension": ".py",
   "mimetype": "text/x-python",
   "name": "python",
   "nbconvert_exporter": "python",
   "pygments_lexer": "ipython3",
   "version": "3.10.12"
  }
 },
 "nbformat": 4,
 "nbformat_minor": 2
}
